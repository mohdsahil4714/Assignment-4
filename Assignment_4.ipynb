{
  "nbformat": 4,
  "nbformat_minor": 0,
  "metadata": {
    "colab": {
      "provenance": []
    },
    "kernelspec": {
      "name": "python3",
      "display_name": "Python 3"
    },
    "language_info": {
      "name": "python"
    }
  },
  "cells": [
    {
      "cell_type": "markdown",
      "source": [
        "#**Assignment**"
      ],
      "metadata": {
        "id": "ZwyAKNiyTXgO"
      }
    },
    {
      "cell_type": "markdown",
      "source": [
        "# **Theoritical Questions**"
      ],
      "metadata": {
        "id": "ITYAgm-bTfQH"
      }
    },
    {
      "cell_type": "markdown",
      "source": [
        "**Q.1 What is Object-Oriented Programming (OOP)?**\n",
        "- Object-Oriented Programming (OOP) is a programming approach based on the concept of **objects**, which contain **data** (attributes) and **functions** (methods). It uses key principles like **encapsulation**, **inheritance**, **polymorphism**, and **abstraction** to organize and structure code. OOP promotes **modularity**, **reusability**, and **maintainability**, making complex programs easier to manage. A **class** is the blueprint, and an **object** is an instance of that class."
      ],
      "metadata": {
        "id": "2a-AuMRlTjWp"
      }
    },
    {
      "cell_type": "markdown",
      "source": [
        "**Q.2 What is a class in OOP?**\n",
        "- A **class** in Object-Oriented Programming (OOP) is a blueprint or template for creating objects. It defines the structure and behavior that the objects will have, including **attributes** (data) and **methods** (functions). Objects are created from classes and are called instances.\n"
      ],
      "metadata": {
        "id": "RAyTqyQUT7tb"
      }
    },
    {
      "cell_type": "markdown",
      "source": [
        "**Q.3  What is an object in OOP?**\n",
        "- An **object** in Object-Oriented Programming (OOP) is an instance of a class. It represents a real-world entity with **attributes** (data) and **methods** (functions) defined by its class. Objects are used to perform actions and store information within a program."
      ],
      "metadata": {
        "id": "BoUSq9DNUERh"
      }
    },
    {
      "cell_type": "markdown",
      "source": [
        "**Q.4  What is the difference between abstraction and encapsulation?**\n",
        "- **Abstraction** and **encapsulation** are two fundamental concepts in Object-Oriented Programming. **Abstraction** focuses on hiding the complex implementation details and showing only the essential features to the user, making the system simpler to understand. It is used to define what an object does, not how it does it. **Encapsulation**, on the other hand, is about wrapping data and methods into a single unit (class) and restricting direct access to some components using access modifiers. It helps protect the data and ensures controlled access and modification. While abstraction simplifies complexity, encapsulation secures data."
      ],
      "metadata": {
        "id": "FPLi1HY6Ubux"
      }
    },
    {
      "cell_type": "markdown",
      "source": [
        "**Q.5 What are dunder methods in Python?**\n",
        "- **Dunder methods** (short for \"double underscore\" methods) in Python are special methods with names that begin and end with double underscores, like `__init__`, `__str__`, and `__len__`. These methods are also known as **magic methods** and are used to define or customize the behavior of Python objects. For example, `__init__` initializes an object when it's created, and `__str__` defines how the object is represented as a string. They allow objects to interact with built-in functions and operators, enabling operator overloading and other advanced behaviors. Dunder methods are not meant to be called directly; instead, they are invoked by Python internally. Using them properly makes your custom classes behave more like built-in types.\n"
      ],
      "metadata": {
        "id": "L-2fp20AUyFH"
      }
    },
    {
      "cell_type": "markdown",
      "source": [
        "**Q.6  Explain the concept of inheritance in OOP.**\n",
        "- **Inheritance** in Object-Oriented Programming (OOP) is the concept where one class (called the **child** or **subclass**) inherits the properties and behaviors (methods and attributes) of another class (called the **parent** or **superclass**). It allows code reuse, making programs easier to maintain and extend. The child class can also override or add new features to the inherited ones. Inheritance supports the **\"is-a\"** relationship — for example, a Dog is a type of Animal. It helps in building a hierarchical classification in programs. Python supports **single**, **multiple**, and **multilevel** inheritance.\n"
      ],
      "metadata": {
        "id": "2tLDAzHzVAz_"
      }
    },
    {
      "cell_type": "markdown",
      "source": [
        "**Q.7 What is polymorphism in OOP?**\n",
        "- **Polymorphism** in Object-Oriented Programming (OOP) means the ability of different objects to respond to the same method or function in different ways. It allows one interface to be used for multiple data types or classes. For example, different classes like `Dog` and `Cat` can have their own version of a method called `speak()`, but you can call `speak()` on both without knowing their specific types. Polymorphism increases flexibility and reusability in code. It can be achieved through **method overriding** (in inheritance) and **method overloading** (though Python handles it differently). It supports the principle of \"one name, many forms.\"\n"
      ],
      "metadata": {
        "id": "O4oVchxvVUBs"
      }
    },
    {
      "cell_type": "markdown",
      "source": [
        "**Q.8  How is encapsulation achieved in Python?**\n",
        "- **Encapsulation** in Python is achieved by **restricting direct access** to an object's data and methods, and by using **access modifiers**:\n",
        "\n",
        "1. **Public Members**:\n",
        "   Attributes and methods with no underscore (e.g., `name`) are accessible from anywhere.\n",
        "\n",
        "2. **Protected Members**:\n",
        "   Prefixing with a single underscore (e.g., `_name`) suggests that it should not be accessed directly outside the class, though it’s still accessible.\n",
        "\n",
        "3. **Private Members**:\n",
        "   Prefixing with double underscores (e.g., `__name`) makes the attribute/method name-mangled, meaning it can't be accessed directly from outside the class (e.g., `_ClassName__name`).\n",
        "\n"
      ],
      "metadata": {
        "id": "UIib0ywxVkOV"
      }
    },
    {
      "cell_type": "markdown",
      "source": [
        "**Q.9 What is a constructor in Python?**\n",
        "- A **constructor** in Python is a special method called `__init__` that is automatically invoked when a new object of a class is created. Its main purpose is to initialize the object's attributes with specific values. The constructor can take parameters to set initial states for the object. It helps set up the object properly before it is used. Unlike some other languages, Python only has one constructor method (`__init__`) per class.\n"
      ],
      "metadata": {
        "id": "3q2ui20IVxeP"
      }
    },
    {
      "cell_type": "markdown",
      "source": [
        "**Q.10 What are class and static methods in Python?**\n",
        "- In Python, **class methods** and **static methods** are two types of methods that belong to a class rather than an instance:\n",
        "\n",
        "* **Class Methods**: Defined with the `@classmethod` decorator, they take the class (`cls`) as the first parameter instead of the instance (`self`). They can access and modify class-level attributes and are often used for factory methods or alternative constructors.\n",
        "\n",
        "* **Static Methods**: Defined with the `@staticmethod` decorator, they don’t take `self` or `cls` as a parameter. They behave like regular functions but belong to the class’s namespace. Static methods are used for utility functions related to the class but that don’t need access to class or instance data.\n"
      ],
      "metadata": {
        "id": "5ow7kezeWDnB"
      }
    },
    {
      "cell_type": "markdown",
      "source": [
        "**Q.11 What is method overloading in Python?**\n",
        "- **Method overloading** is the ability to define multiple methods with the same name but different parameters in a class. However, Python does **not** support traditional method overloading like some other languages (e.g., Java). Instead, Python allows a single method to handle different argument types or numbers using default arguments or `*args` and `**kwargs`. This way, you can write flexible methods that behave differently based on the input. Method overloading is often simulated by checking argument types or counts inside the method.\n"
      ],
      "metadata": {
        "id": "vFpW3D8kWLl4"
      }
    },
    {
      "cell_type": "markdown",
      "source": [
        "**Q.12 What is method overriding in OOP?**\n",
        "- **Method overriding** in Object-Oriented Programming (OOP) occurs when a subclass provides its own implementation of a method that is already defined in its parent class. This allows the subclass to modify or extend the behavior of the inherited method. When the method is called on an object of the subclass, the overridden version is executed instead of the parent class’s version. Method overriding supports **runtime polymorphism** and helps customize or specialize behavior in derived classes. It requires the method in the child class to have the same name and parameters as in the parent class.\n"
      ],
      "metadata": {
        "id": "gZdUFpoEWjA9"
      }
    },
    {
      "cell_type": "markdown",
      "source": [
        "**Q.13 What is a property decorator in Python?**\n",
        "- The **`@property` decorator** in Python is used to define a method as a property, allowing you to access it like an attribute. It provides a way to customize getting (and optionally setting or deleting) an attribute while keeping the syntax clean and simple. Using `@property`, you can add logic to attribute access without changing how the attribute is used by the outside code. It helps implement **encapsulation** by controlling access to private variables. You can also define setter and deleter methods using `@<property_name>.setter` and `@<property_name>.deleter`.\n"
      ],
      "metadata": {
        "id": "S2oP-N3uWyLq"
      }
    },
    {
      "cell_type": "markdown",
      "source": [
        "**Q.14 Why is polymorphism important in OOP?**\n",
        "- Polymorphism is important in OOP because it allows objects of different classes to be treated through a common interface, enabling code flexibility and reuse. It lets programmers write more general and scalable code by using methods that can work with objects of multiple types. Polymorphism supports **dynamic method binding**, meaning the correct method is called based on the object’s actual type at runtime. This makes it easier to extend and maintain code without changing existing functionality. Overall, it enhances **modularity** and **extensibility** in software design.\n"
      ],
      "metadata": {
        "id": "ACJkQ59xW-Or"
      }
    },
    {
      "cell_type": "markdown",
      "source": [
        "**Q.15 What is an abstract class in Python?**\n",
        "- An **abstract class** in Python is a class that cannot be instantiated directly and is designed to be a blueprint for other classes. It can contain one or more **abstract methods**—methods declared but without implementation—that must be overridden by any subclass. Abstract classes are created using the `abc` module and the `@abstractmethod` decorator. They help define a common interface and enforce certain methods to be implemented in derived classes, ensuring a consistent design. Abstract classes support the concept of **abstraction** in OOP.\n"
      ],
      "metadata": {
        "id": "DJYFuuYcXNEP"
      }
    },
    {
      "cell_type": "markdown",
      "source": [
        "**Q.16 What are the advantages of OOP?**\n",
        "- The advantages of Object-Oriented Programming (OOP) include **modularity**, as code is organized into reusable objects; **code reusability** through inheritance; and **encapsulation**, which protects data by restricting direct access. OOP also promotes **flexibility** and **maintainability** by allowing easy modification and extension of existing code without affecting other parts. Additionally, **polymorphism** enables one interface to work with different data types, making programs more scalable and easier to manage.\n"
      ],
      "metadata": {
        "id": "RInqSgGsXa8p"
      }
    },
    {
      "cell_type": "markdown",
      "source": [
        "**Q.17 What is the difference between a class variable and an instance variable?**\n",
        "- **Class variables** are shared across all instances of a class; they belong to the class itself and have the same value for every object unless explicitly changed.\n",
        "\n",
        "- **Instance variables** on the other hand, are unique to each object created from the class; they store data specific to that particular instance.\n",
        "While class variables are defined inside the class but outside any method, instance variables are usually defined inside methods (like `__init__`) using `self`.\n",
        "In short, class variables hold common data for all objects, and instance variables hold individual data for each object.\n"
      ],
      "metadata": {
        "id": "EjYtkuikXj5H"
      }
    },
    {
      "cell_type": "markdown",
      "source": [
        "**Q.18 What is multiple inheritance in Python?**\n",
        "- **Multiple inheritance** in Python is a feature where a class can inherit attributes and methods from more than one parent class. This allows the child class to combine and reuse functionality from multiple classes, enabling more flexible and powerful designs. Python supports multiple inheritance directly by listing multiple parent classes in the class definition, like `class Child(Parent1, Parent2):`. However, it requires careful handling of method resolution order (MRO) to avoid conflicts when parent classes have methods with the same name.\n"
      ],
      "metadata": {
        "id": "Kb9Yv7sbYCRJ"
      }
    },
    {
      "cell_type": "markdown",
      "source": [
        "**Q.19 Explain the purpose of ‘’__str__’ and ‘__repr__’ ‘ methods in Python.**\n",
        "- The `__str__` and `__repr__` methods in Python are both used to provide string representations of an object, but they serve different purposes:\n",
        "\n",
        "* **`__str__`**: Returns a readable, user-friendly string representation of the object, meant to be easy to understand. It is used by the `print()` function and `str()`.\n",
        "\n",
        "* **`__repr__`**: Returns an official string representation of the object that is meant to be unambiguous and, if possible, valid Python code to recreate the object. It’s used by the `repr()` function and in interactive shells.\n",
        "\n",
        "If `__str__` is not defined, Python falls back to using `__repr__` as a default.\n"
      ],
      "metadata": {
        "id": "iBiMKNk2YNK3"
      }
    },
    {
      "cell_type": "markdown",
      "source": [
        "**Q.20 What is the significance of the ‘super()’ function in Python?**\n",
        "- The `super()` function in Python is used to call a method from a parent (or superclass) inside a subclass. It helps to **access and extend** the functionality of inherited methods without explicitly naming the parent class. This is especially useful in **multiple inheritance** scenarios to ensure the correct method resolution order (MRO) is followed. Using `super()` makes code more maintainable and avoids directly hardcoding parent class names, allowing easier changes in the class hierarchy.\n"
      ],
      "metadata": {
        "id": "PsHCvabHYlSQ"
      }
    },
    {
      "cell_type": "markdown",
      "source": [
        "**Q.21 What is the significance of the __del__ method in Python?**\n",
        "- The `__del__` method in Python is a **destructor** that is called when an object is about to be destroyed or garbage collected. It allows you to define cleanup actions, such as releasing external resources (files, network connections) or freeing memory. However, relying on `__del__` is generally discouraged because the timing of its execution is unpredictable due to Python’s garbage collection. It’s better to use context managers (`with` statements) for managing resources safely.\n"
      ],
      "metadata": {
        "id": "4dR5zEX7YwhZ"
      }
    },
    {
      "cell_type": "markdown",
      "source": [
        "**Q.22 What is the difference between @staticmethod and @classmethod in Python?**\n",
        "- The difference between `@staticmethod` and `@classmethod` in Python is:\n",
        "\n",
        "* **`@staticmethod`** defines a method that does **not** receive any implicit first argument (neither `self` nor `cls`). It behaves like a regular function but belongs to the class’s namespace. It cannot access or modify class or instance state.\n",
        "\n",
        "* **`@classmethod`** defines a method that receives the class (`cls`) as the first argument instead of the instance. It can access and modify class-level attributes and can be used to create alternative constructors or work with the class itself.\n",
        "\n",
        "In short, static methods don’t know about the class or instance, while class methods have access to the class object.\n"
      ],
      "metadata": {
        "id": "uxxdVu7aZBLn"
      }
    },
    {
      "cell_type": "markdown",
      "source": [
        "**Q.23 How does polymorphism work in Python with inheritance?**\n",
        "- Polymorphism in Python with inheritance works by allowing a subclass to **override** methods of its parent class, so that when a method is called on an object, the version that runs depends on the object's actual class at runtime. This means you can write code that works with parent class references but automatically uses the child class’s specific implementation. For example, different subclasses can have their own versions of a method like `speak()`, and calling `speak()` on any subclass object will execute the appropriate method. This enables flexible and extensible code through **dynamic method dispatch**.\n"
      ],
      "metadata": {
        "id": "8zKihEleZMaz"
      }
    },
    {
      "cell_type": "markdown",
      "source": [
        "**Q.24 What is method chaining in Python OOP?**\n",
        "- **Method chaining** in Python OOP is a technique where multiple methods are called sequentially on the same object in a single statement. Each method returns the object itself (`self`), allowing the next method to be called directly on it. This makes the code more concise and readable. For example:\n",
        "\n",
        "```python\n",
        "obj.method1().method2().method3()\n",
        "```\n",
        "\n",
        "Method chaining is commonly used in libraries and fluent interfaces to simplify complex operations and improve code flow.\n"
      ],
      "metadata": {
        "id": "kB6USdrAZZno"
      }
    },
    {
      "cell_type": "markdown",
      "source": [
        "**Q.25 What is the purpose of the __call__ method in Python?**\n",
        "- The `__call__` method in Python allows an instance of a class to be **called like a function**. When you define `__call__` in a class, you can use the object with parentheses, passing arguments as if it were a regular function. This makes objects behave like callable functions and is useful for creating flexible and intuitive APIs, such as function objects or decorators.\n"
      ],
      "metadata": {
        "id": "90tQMktqZlOe"
      }
    },
    {
      "cell_type": "markdown",
      "source": [
        "# **Practical Questions**"
      ],
      "metadata": {
        "id": "X9LQS_5JZtl-"
      }
    },
    {
      "cell_type": "markdown",
      "source": [
        "**Q.1 Create a parent class Animal with a method speak() that prints a generic message. Create a child class Dog\n",
        "that overrides the speak() method to print \"Bark!\".**"
      ],
      "metadata": {
        "id": "LvvLz-I7aQBk"
      }
    },
    {
      "cell_type": "markdown",
      "source": [
        "- Here’s a simple example of a parent class Animal with a method speak(), and a child class Dog that overrides it:"
      ],
      "metadata": {
        "id": "3v-dOKLEanGQ"
      }
    },
    {
      "cell_type": "code",
      "source": [
        "class Animal:\n",
        "    def speak(self):\n",
        "        print(\"This animal makes a sound.\")\n",
        "\n",
        "class Dog(Animal):\n",
        "    def speak(self):\n",
        "        print(\"Bark!\")\n",
        "\n",
        "# Example usage:\n",
        "a = Animal()\n",
        "a.speak()  # Output: This animal makes a sound.\n",
        "\n",
        "d = Dog()\n",
        "d.speak()  # Output: Bark!"
      ],
      "metadata": {
        "colab": {
          "base_uri": "https://localhost:8080/"
        },
        "id": "HTFFMXJ5av3X",
        "outputId": "91a6522c-bec9-43df-8dcb-83a06b439974"
      },
      "execution_count": 1,
      "outputs": [
        {
          "output_type": "stream",
          "name": "stdout",
          "text": [
            "This animal makes a sound.\n",
            "Bark!\n"
          ]
        }
      ]
    },
    {
      "cell_type": "markdown",
      "source": [
        "**Q.2 Write a program to create an abstract class Shape with a method area(). Derive classes Circle and Rectangle\n",
        "from it and implement the area() method in both.**"
      ],
      "metadata": {
        "id": "QOwA1B8oa1di"
      }
    },
    {
      "cell_type": "code",
      "source": [
        "from abc import ABC, abstractmethod\n",
        "import math\n",
        "\n",
        "class Shape(ABC):\n",
        "    @abstractmethod\n",
        "    def area(self):\n",
        "        pass\n",
        "\n",
        "class Circle(Shape):\n",
        "    def __init__(self, radius):\n",
        "        self.radius = radius\n",
        "\n",
        "    def area(self):\n",
        "        return math.pi * self.radius ** 2\n",
        "\n",
        "class Rectangle(Shape):\n",
        "    def __init__(self, width, height):\n",
        "        self.width = width\n",
        "        self.height = height\n",
        "\n",
        "    def area(self):\n",
        "        return self.width * self.height\n",
        "\n",
        "# Example usage:\n",
        "c = Circle(5)\n",
        "print(\"Circle area:\", c.area())  # Output: Circle area: 78.53981633974483\n",
        "\n",
        "r = Rectangle(4, 7)\n",
        "print(\"Rectangle area:\", r.area())  # Output: Rectangle area: 28"
      ],
      "metadata": {
        "colab": {
          "base_uri": "https://localhost:8080/"
        },
        "id": "HhQFcrsWbDq1",
        "outputId": "880edbd2-cad1-4d5a-e1f1-dd91a7d4cb3f"
      },
      "execution_count": 2,
      "outputs": [
        {
          "output_type": "stream",
          "name": "stdout",
          "text": [
            "Circle area: 78.53981633974483\n",
            "Rectangle area: 28\n"
          ]
        }
      ]
    },
    {
      "cell_type": "markdown",
      "source": [
        "**Q.3  Implement a multi-level inheritance scenario where a class Vehicle has an attribute type. Derive a class Car\n",
        "and further derive a class ElectricCar that adds a battery attribute.**"
      ],
      "metadata": {
        "id": "7cLKmzoZbG3K"
      }
    },
    {
      "cell_type": "code",
      "source": [
        "class Vehicle:\n",
        "    def __init__(self, vehicle_type):\n",
        "        self.type = vehicle_type\n",
        "\n",
        "class Car(Vehicle):\n",
        "    def __init__(self, vehicle_type, brand):\n",
        "        super().__init__(vehicle_type)\n",
        "        self.brand = brand\n",
        "\n",
        "class ElectricCar(Car):\n",
        "    def __init__(self, vehicle_type, brand, battery_capacity):\n",
        "        super().__init__(vehicle_type, brand)\n",
        "        self.battery = battery_capacity\n",
        "\n",
        "    def display_info(self):\n",
        "        print(f\"Type: {self.type}, Brand: {self.brand}, Battery: {self.battery} kWh\")\n",
        "\n",
        "# Example usage:\n",
        "e_car = ElectricCar(\"Electric\", \"Tesla\", 100)\n",
        "e_car.display_info()  # Output: Type: Electric, Brand: Tesla, Battery: 100 kWh"
      ],
      "metadata": {
        "colab": {
          "base_uri": "https://localhost:8080/"
        },
        "id": "hnbCGu9jbQ5k",
        "outputId": "1d91851b-676a-4ca2-9ddd-942b499dec56"
      },
      "execution_count": 3,
      "outputs": [
        {
          "output_type": "stream",
          "name": "stdout",
          "text": [
            "Type: Electric, Brand: Tesla, Battery: 100 kWh\n"
          ]
        }
      ]
    },
    {
      "cell_type": "markdown",
      "source": [
        "**Q.4 Demonstrate polymorphism by creating a base class Bird with a method fly(). Create two derived classes\n",
        "Sparrow and Penguin that override the fly() method.**"
      ],
      "metadata": {
        "id": "cOUuSt5vbUKS"
      }
    },
    {
      "cell_type": "code",
      "source": [
        "class Bird:\n",
        "    def fly(self):\n",
        "        print(\"Some birds can fly.\")\n",
        "\n",
        "class Sparrow(Bird):\n",
        "    def fly(self):\n",
        "        print(\"Sparrow can fly high!\")\n",
        "\n",
        "class Penguin(Bird):\n",
        "    def fly(self):\n",
        "        print(\"Penguins cannot fly.\")\n",
        "\n",
        "# Example usage:\n",
        "birds = [Sparrow(), Penguin()]\n",
        "\n",
        "for bird in birds:\n",
        "    bird.fly()"
      ],
      "metadata": {
        "colab": {
          "base_uri": "https://localhost:8080/"
        },
        "id": "KYYV31fEbfhl",
        "outputId": "c645522f-5fae-4b09-99da-3f727cb207a3"
      },
      "execution_count": 4,
      "outputs": [
        {
          "output_type": "stream",
          "name": "stdout",
          "text": [
            "Sparrow can fly high!\n",
            "Penguins cannot fly.\n"
          ]
        }
      ]
    },
    {
      "cell_type": "markdown",
      "source": [
        "**Q.5 Write a program to demonstrate encapsulation by creating a class BankAccount with private attributes\n",
        "balance and methods to deposit, withdraw, and check balance.**"
      ],
      "metadata": {
        "id": "x--PTaJTbpH-"
      }
    },
    {
      "cell_type": "code",
      "source": [
        "class BankAccount:\n",
        "    def __init__(self, initial_balance=0):\n",
        "        self.__balance = initial_balance  # Private attribute\n",
        "\n",
        "    def deposit(self, amount):\n",
        "        if amount > 0:\n",
        "            self.__balance += amount\n",
        "            print(f\"Deposited: {amount}\")\n",
        "        else:\n",
        "            print(\"Deposit amount must be positive.\")\n",
        "\n",
        "    def withdraw(self, amount):\n",
        "        if amount > 0:\n",
        "            if amount <= self.__balance:\n",
        "                self.__balance -= amount\n",
        "                print(f\"Withdrawn: {amount}\")\n",
        "            else:\n",
        "                print(\"Insufficient balance.\")\n",
        "        else:\n",
        "            print(\"Withdrawal amount must be positive.\")\n",
        "\n",
        "    def get_balance(self):\n",
        "        return self.__balance\n",
        "\n",
        "# Example usage:\n",
        "account = BankAccount(100)\n",
        "account.deposit(50)\n",
        "account.withdraw(30)\n",
        "print(\"Current Balance:\", account.get_balance())"
      ],
      "metadata": {
        "colab": {
          "base_uri": "https://localhost:8080/"
        },
        "id": "cJ630ggPclNd",
        "outputId": "e6a49e6e-2063-405a-eaa5-fb2997822cf9"
      },
      "execution_count": 5,
      "outputs": [
        {
          "output_type": "stream",
          "name": "stdout",
          "text": [
            "Deposited: 50\n",
            "Withdrawn: 30\n",
            "Current Balance: 120\n"
          ]
        }
      ]
    },
    {
      "cell_type": "markdown",
      "source": [
        "**Q.6 Demonstrate runtime polymorphism using a method play() in a base class Instrument. Derive classes Guitar\n",
        "and Piano that implement their own version of play().**"
      ],
      "metadata": {
        "id": "wHAzGy9McvsV"
      }
    },
    {
      "cell_type": "code",
      "source": [
        "class Instrument:\n",
        "    def play(self):\n",
        "        print(\"Playing some instrument.\")\n",
        "\n",
        "class Guitar(Instrument):\n",
        "    def play(self):\n",
        "        print(\"Playing the guitar!\")\n",
        "\n",
        "class Piano(Instrument):\n",
        "    def play(self):\n",
        "        print(\"Playing the piano!\")\n",
        "\n",
        "# Example usage:\n",
        "instruments = [Guitar(), Piano()]\n",
        "\n",
        "for instrument in instruments:\n",
        "    instrument.play()"
      ],
      "metadata": {
        "colab": {
          "base_uri": "https://localhost:8080/"
        },
        "id": "BxFPLseic2NH",
        "outputId": "2504c67a-52c1-4fa7-c077-5d60a1a2ebd9"
      },
      "execution_count": 6,
      "outputs": [
        {
          "output_type": "stream",
          "name": "stdout",
          "text": [
            "Playing the guitar!\n",
            "Playing the piano!\n"
          ]
        }
      ]
    },
    {
      "cell_type": "markdown",
      "source": [
        "**Q.7 Create a class MathOperations with a class method add_numbers() to add two numbers and a static\n",
        "method subtract_numbers() to subtract two numbers.**"
      ],
      "metadata": {
        "id": "xu6Fo0gGc-fb"
      }
    },
    {
      "cell_type": "code",
      "source": [
        "class MathOperations:\n",
        "    @classmethod\n",
        "    def add_numbers(cls, a, b):\n",
        "        return a + b\n",
        "\n",
        "    @staticmethod\n",
        "    def subtract_numbers(a, b):\n",
        "        return a - b\n",
        "\n",
        "# Example usage:\n",
        "print(MathOperations.add_numbers(10, 5))\n",
        "print(MathOperations.subtract_numbers(10, 5))"
      ],
      "metadata": {
        "colab": {
          "base_uri": "https://localhost:8080/"
        },
        "id": "ryXJHEoYdEzJ",
        "outputId": "ab5dae3d-a91d-4cb4-9f1e-9025d9ee671b"
      },
      "execution_count": 7,
      "outputs": [
        {
          "output_type": "stream",
          "name": "stdout",
          "text": [
            "15\n",
            "5\n"
          ]
        }
      ]
    },
    {
      "cell_type": "markdown",
      "source": [
        "**Q.8 . Implement a class Person with a class method to count the total number of persons created.**"
      ],
      "metadata": {
        "id": "FcUVzOqEgdxF"
      }
    },
    {
      "cell_type": "code",
      "source": [
        "class Person:\n",
        "    count = 0  # Class variable to keep track of the number of persons\n",
        "\n",
        "    def __init__(self, name):\n",
        "        self.name = name\n",
        "        Person.count += 1\n",
        "\n",
        "    @classmethod\n",
        "    def total_persons(cls):\n",
        "        return cls.count\n",
        "\n",
        "# Example usage:\n",
        "p1 = Person(\"Alice\")\n",
        "p2 = Person(\"Bob\")\n",
        "p3 = Person(\"Charlie\")\n",
        "\n",
        "print(\"Total persons created:\", Person.total_persons())  # Output: 3"
      ],
      "metadata": {
        "colab": {
          "base_uri": "https://localhost:8080/"
        },
        "id": "A9AUxI-4gqWs",
        "outputId": "a93a4676-1f78-4a57-8c87-57a688b67431"
      },
      "execution_count": 8,
      "outputs": [
        {
          "output_type": "stream",
          "name": "stdout",
          "text": [
            "Total persons created: 3\n"
          ]
        }
      ]
    },
    {
      "cell_type": "markdown",
      "source": [
        "**Q.9 Write a class Fraction with attributes numerator and denominator. Override the str method to display the\n",
        "fraction as \"numerator/denominator\".**"
      ],
      "metadata": {
        "id": "wvQl3TuWgtl1"
      }
    },
    {
      "cell_type": "code",
      "source": [
        "class Fraction:\n",
        "    def __init__(self, numerator, denominator):\n",
        "        self.numerator = numerator\n",
        "        self.denominator = denominator\n",
        "\n",
        "    def __str__(self):\n",
        "        return f\"{self.numerator}/{self.denominator}\"\n",
        "\n",
        "# Example usage:\n",
        "f = Fraction(3, 4)\n",
        "print(f)  # Output: 3/4"
      ],
      "metadata": {
        "colab": {
          "base_uri": "https://localhost:8080/"
        },
        "id": "rZWC1rhsg1Uo",
        "outputId": "902c8879-1f07-4cc6-b9be-d4055bdefd3e"
      },
      "execution_count": 9,
      "outputs": [
        {
          "output_type": "stream",
          "name": "stdout",
          "text": [
            "3/4\n"
          ]
        }
      ]
    },
    {
      "cell_type": "markdown",
      "source": [
        "**Q.10  Demonstrate operator overloading by creating a class Vector and overriding the add method to add two\n",
        "vectors.**"
      ],
      "metadata": {
        "id": "hik-W6wDg36V"
      }
    },
    {
      "cell_type": "code",
      "source": [
        "class Vector:\n",
        "    def __init__(self, x, y):\n",
        "        self.x = x\n",
        "        self.y = y\n",
        "\n",
        "    def __add__(self, other):\n",
        "        return Vector(self.x + other.x, self.y + other.y)\n",
        "\n",
        "    def __str__(self):\n",
        "        return f\"Vector({self.x}, {self.y})\"\n",
        "\n",
        "# Example usage:\n",
        "v1 = Vector(2, 3)\n",
        "v2 = Vector(4, 5)\n",
        "v3 = v1 + v2\n",
        "print(v3)  # Output: Vector(6, 8)"
      ],
      "metadata": {
        "colab": {
          "base_uri": "https://localhost:8080/"
        },
        "id": "eiDUB4_7g-Ly",
        "outputId": "cfe81d7a-dcc9-4c5b-b860-a1f6d08039aa"
      },
      "execution_count": 10,
      "outputs": [
        {
          "output_type": "stream",
          "name": "stdout",
          "text": [
            "Vector(6, 8)\n"
          ]
        }
      ]
    },
    {
      "cell_type": "markdown",
      "source": [
        "**Q.11 Create a class Person with attributes name and age. Add a method greet() that prints \"Hello, my name is\n",
        "{name} and I am {age} years old.\"**"
      ],
      "metadata": {
        "id": "KjpCwT7RhJQo"
      }
    },
    {
      "cell_type": "code",
      "source": [
        "class Person:\n",
        "    def __init__(self, name, age):\n",
        "        self.name = name\n",
        "        self.age = age\n",
        "\n",
        "    def greet(self):\n",
        "        print(f\"Hello, my name is {self.name} and I am {self.age} years old.\")\n",
        "\n",
        "# Example usage:\n",
        "p = Person(\"Alice\", 25)\n",
        "p.greet()"
      ],
      "metadata": {
        "colab": {
          "base_uri": "https://localhost:8080/"
        },
        "id": "MJoUK5wzhUHr",
        "outputId": "a9a71d75-6266-455c-a9f7-6e432c9a6fb4"
      },
      "execution_count": 11,
      "outputs": [
        {
          "output_type": "stream",
          "name": "stdout",
          "text": [
            "Hello, my name is Alice and I am 25 years old.\n"
          ]
        }
      ]
    },
    {
      "cell_type": "markdown",
      "source": [
        "**Q.12  Implement a class Student with attributes name and grades. Create a method average_grade() to compute\n",
        "the average of the grades.**"
      ],
      "metadata": {
        "id": "7pfchsBvhYq4"
      }
    },
    {
      "cell_type": "code",
      "source": [
        "class Student:\n",
        "    def __init__(self, name, grades):\n",
        "        self.name = name\n",
        "        self.grades = grades  # grades should be a list of numbers\n",
        "\n",
        "    def average_grade(self):\n",
        "        if self.grades:\n",
        "            return sum(self.grades) / len(self.grades)\n",
        "        else:\n",
        "            return 0\n",
        "\n",
        "# Example usage:\n",
        "s = Student(\"John\", [85, 90, 78, 92])\n",
        "print(f\"{s.name}'s average grade is: {s.average_grade()}\")"
      ],
      "metadata": {
        "colab": {
          "base_uri": "https://localhost:8080/"
        },
        "id": "QG1zASRRhf0u",
        "outputId": "1e9d63f0-b29e-479a-9098-5f5a78f8436a"
      },
      "execution_count": 12,
      "outputs": [
        {
          "output_type": "stream",
          "name": "stdout",
          "text": [
            "John's average grade is: 86.25\n"
          ]
        }
      ]
    },
    {
      "cell_type": "markdown",
      "source": [
        "**Q.13  Create a class Rectangle with methods set_dimensions() to set the dimensions and area() to calculate the\n",
        "area.**"
      ],
      "metadata": {
        "id": "eamtHVVqhmMl"
      }
    },
    {
      "cell_type": "code",
      "source": [
        "class Rectangle:\n",
        "    def __init__(self):\n",
        "        self.width = 0\n",
        "        self.height = 0\n",
        "\n",
        "    def set_dimensions(self, width, height):\n",
        "        self.width = width\n",
        "        self.height = height\n",
        "\n",
        "    def area(self):\n",
        "        return self.width * self.height\n",
        "\n",
        "# Example usage:\n",
        "r = Rectangle()\n",
        "r.set_dimensions(5, 4)\n",
        "print(\"Area of rectangle:\", r.area())"
      ],
      "metadata": {
        "colab": {
          "base_uri": "https://localhost:8080/"
        },
        "id": "KS3SfpCeh2Vh",
        "outputId": "cc23080e-6b8f-4eed-bb46-85af527883a3"
      },
      "execution_count": 14,
      "outputs": [
        {
          "output_type": "stream",
          "name": "stdout",
          "text": [
            "Area of rectangle: 20\n"
          ]
        }
      ]
    },
    {
      "cell_type": "markdown",
      "source": [
        "**Q.14  Create a class Employee with a method calculate_salary() that computes the salary based on hours worked\n",
        "and hourly rate. Create a derived class Manager that adds a bonus to the salary.**"
      ],
      "metadata": {
        "id": "JIr73R0qh7MT"
      }
    },
    {
      "cell_type": "code",
      "source": [
        "class Employee:\n",
        "    def __init__(self, name, hours_worked, hourly_rate):\n",
        "        self.name = name\n",
        "        self.hours_worked = hours_worked\n",
        "        self.hourly_rate = hourly_rate\n",
        "\n",
        "    def calculate_salary(self):\n",
        "        return self.hours_worked * self.hourly_rate\n",
        "\n",
        "class Manager(Employee):\n",
        "    def __init__(self, name, hours_worked, hourly_rate, bonus):\n",
        "        super().__init__(name, hours_worked, hourly_rate)\n",
        "        self.bonus = bonus\n",
        "\n",
        "    def calculate_salary(self):\n",
        "        base_salary = super().calculate_salary()\n",
        "        return base_salary + self.bonus\n",
        "\n",
        "# Example usage:\n",
        "emp = Employee(\"John\", 40, 20)\n",
        "print(f\"{emp.name}'s salary: ${emp.calculate_salary()}\")  # Output: John's salary: $800\n",
        "\n",
        "mgr = Manager(\"Alice\", 40, 30, 500)\n",
        "print(f\"{mgr.name}'s salary: ${mgr.calculate_salary()}\")  # Output: Alice's salary: $1700"
      ],
      "metadata": {
        "colab": {
          "base_uri": "https://localhost:8080/"
        },
        "id": "73voMdfJiEjH",
        "outputId": "4ed564a9-8e90-4885-c16c-93fa6af16d56"
      },
      "execution_count": 15,
      "outputs": [
        {
          "output_type": "stream",
          "name": "stdout",
          "text": [
            "John's salary: $800\n",
            "Alice's salary: $1700\n"
          ]
        }
      ]
    },
    {
      "cell_type": "markdown",
      "source": [
        "**Q.15  Create a class Product with attributes name, price, and quantity. Implement a method total_price() that\n",
        "calculates the total price of the product.**"
      ],
      "metadata": {
        "id": "djd_Bk8qiHSH"
      }
    },
    {
      "cell_type": "code",
      "source": [
        "class Product:\n",
        "    def __init__(self, name, price, quantity):\n",
        "        self.name = name\n",
        "        self.price = price\n",
        "        self.quantity = quantity\n",
        "\n",
        "    def total_price(self):\n",
        "        return self.price * self.quantity\n",
        "\n",
        "# Example usage:\n",
        "p = Product(\"Laptop\", 800, 2)\n",
        "print(f\"Total price for {p.name}s: ${p.total_price()}\")  # Output: Total price for Laptops: $1600"
      ],
      "metadata": {
        "colab": {
          "base_uri": "https://localhost:8080/"
        },
        "id": "jfFhLqzDiXKq",
        "outputId": "54429d1c-3d5f-495a-ae0e-3e94b60fa70e"
      },
      "execution_count": 16,
      "outputs": [
        {
          "output_type": "stream",
          "name": "stdout",
          "text": [
            "Total price for Laptops: $1600\n"
          ]
        }
      ]
    },
    {
      "cell_type": "markdown",
      "source": [
        "**Q.16  Create a class Animal with an abstract method sound(). Create two derived classes Cow and Sheep that\n",
        "implement the sound() method.**"
      ],
      "metadata": {
        "id": "pNjT9fbCiZw5"
      }
    },
    {
      "cell_type": "code",
      "source": [
        "from abc import ABC, abstractmethod\n",
        "\n",
        "class Animal(ABC):\n",
        "    @abstractmethod\n",
        "    def sound(self):\n",
        "        pass\n",
        "\n",
        "class Cow(Animal):\n",
        "    def sound(self):\n",
        "        print(\"Cow says Moo!\")\n",
        "\n",
        "class Sheep(Animal):\n",
        "    def sound(self):\n",
        "        print(\"Sheep says Baa!\")\n",
        "\n",
        "# Example usage:\n",
        "c = Cow()\n",
        "s = Sheep()\n",
        "\n",
        "c.sound()  # Output: Cow says Moo!\n",
        "s.sound()  # Output: Sheep says Baa!"
      ],
      "metadata": {
        "colab": {
          "base_uri": "https://localhost:8080/"
        },
        "id": "XWdTBmBniiKv",
        "outputId": "c7fd1f74-ec9b-4ba4-869b-dbdcbb789f54"
      },
      "execution_count": 17,
      "outputs": [
        {
          "output_type": "stream",
          "name": "stdout",
          "text": [
            "Cow says Moo!\n",
            "Sheep says Baa!\n"
          ]
        }
      ]
    },
    {
      "cell_type": "markdown",
      "source": [
        "**Q.17 Create a class Book with attributes title, author, and year_published. Add a method get_book_info() that\n",
        "returns a formatted string with the book's details.**"
      ],
      "metadata": {
        "id": "r8fwnsvximxx"
      }
    },
    {
      "cell_type": "code",
      "source": [
        "class Book:\n",
        "    def __init__(self, title, author, year_published):\n",
        "        self.title = title\n",
        "        self.author = author\n",
        "        self.year_published = year_published\n",
        "\n",
        "    def get_book_info(self):\n",
        "        return f\"'{self.title}' by {self.author}, published in {self.year_published}\"\n",
        "\n",
        "# Example usage:\n",
        "book = Book(\"To Kill a Mockingbird\", \"Harper Lee\", 1960)\n",
        "print(book.get_book_info())"
      ],
      "metadata": {
        "colab": {
          "base_uri": "https://localhost:8080/"
        },
        "id": "j5HzLermjCc5",
        "outputId": "b5f03a6f-b510-4844-cc1f-6549da1d27b9"
      },
      "execution_count": 18,
      "outputs": [
        {
          "output_type": "stream",
          "name": "stdout",
          "text": [
            "'To Kill a Mockingbird' by Harper Lee, published in 1960\n"
          ]
        }
      ]
    },
    {
      "cell_type": "markdown",
      "source": [
        "**Q.18  Create a class House with attributes address and price. Create a derived class Mansion that adds an\n",
        "attribute number_of_rooms.**"
      ],
      "metadata": {
        "id": "R6ZLXOf-jGQj"
      }
    },
    {
      "cell_type": "code",
      "source": [
        "class House:\n",
        "    def __init__(self, address, price):\n",
        "        self.address = address\n",
        "        self.price = price\n",
        "\n",
        "class Mansion(House):\n",
        "    def __init__(self, address, price, number_of_rooms):\n",
        "        super().__init__(address, price)\n",
        "        self.number_of_rooms = number_of_rooms\n",
        "\n",
        "    def get_info(self):\n",
        "        return f\"Mansion at {self.address}, Price: ${self.price}, Rooms: {self.number_of_rooms}\"\n",
        "\n",
        "# Example usage:\n",
        "m = Mansion(\"123 Luxury Lane\", 5000000, 12)\n",
        "print(m.get_info())"
      ],
      "metadata": {
        "colab": {
          "base_uri": "https://localhost:8080/"
        },
        "id": "PL6D403PjbxS",
        "outputId": "50c739cc-ab72-438f-f31b-de5c9b030520"
      },
      "execution_count": 19,
      "outputs": [
        {
          "output_type": "stream",
          "name": "stdout",
          "text": [
            "Mansion at 123 Luxury Lane, Price: $5000000, Rooms: 12\n"
          ]
        }
      ]
    }
  ]
}